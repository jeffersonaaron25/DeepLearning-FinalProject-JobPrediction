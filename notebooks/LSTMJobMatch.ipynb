{
  "cells": [
    {
      "cell_type": "markdown",
      "metadata": {
        "id": "view-in-github",
        "colab_type": "text"
      },
      "source": [
        "<a href=\"https://colab.research.google.com/github/jeffersonaaron25/DeepLearning-FinalProject-JobPrediction/blob/main/notebooks/LSTMJobMatch.ipynb\" target=\"_parent\"><img src=\"https://colab.research.google.com/assets/colab-badge.svg\" alt=\"Open In Colab\"/></a>"
      ]
    },
    {
      "cell_type": "markdown",
      "source": [
        "Prerequisite: Upload jobsdata_augmented_large.csv before running the notebook"
      ],
      "metadata": {
        "id": "dojSSGEankm9"
      }
    },
    {
      "cell_type": "code",
      "execution_count": 10,
      "metadata": {
        "id": "QoK3CAbMyJnn"
      },
      "outputs": [],
      "source": [
        "import re\n",
        "# word lemmatization\n",
        "from nltk.stem import WordNetLemmatizer\n",
        "# stopwords\n",
        "from nltk.corpus import stopwords\n",
        "import pandas as pd\n",
        "from sklearn.preprocessing import LabelEncoder\n",
        "from sklearn.model_selection import train_test_split\n",
        "from keras.preprocessing.text import Tokenizer\n",
        "from tensorflow.keras.utils import pad_sequences\n",
        "from keras.utils import to_categorical\n",
        "import nltk"
      ]
    },
    {
      "cell_type": "code",
      "execution_count": 11,
      "metadata": {
        "id": "2qkfyp4s2Xel"
      },
      "outputs": [],
      "source": [
        "def clean_text(\n",
        "    string: str, \n",
        "    punctuations=r'''!()-[]{};:'\"\\,<>./?@#$%^&*_~''',\n",
        "    stop_words=['the', 'a', 'and', 'is', 'be', 'will']) -> str: \n",
        "    \"\"\"\n",
        "    A method to clean text \n",
        "    \"\"\"\n",
        "    # Cleaning the urls\n",
        "    string = re.sub(r'https?://\\S+|www\\.\\S+', '', string)\n",
        "\n",
        "    # Cleaning the html elements\n",
        "    string = re.sub(r'<.*?>', '', string)\n",
        "\n",
        "    # Removing the punctuations\n",
        "    for x in string.lower(): \n",
        "        if x in punctuations: \n",
        "            string = string.replace(x, \"\") \n",
        "\n",
        "    # Converting the text to lower\n",
        "    string = string.lower()\n",
        "\n",
        "    # Removing stop words\n",
        "    string = ' '.join([word for word in string.split() if word not in stop_words])\n",
        "\n",
        "    # Cleaning the whitespaces\n",
        "    string = re.sub(r'\\s+', ' ', string).strip()\n",
        "\n",
        "    return string"
      ]
    },
    {
      "cell_type": "code",
      "execution_count": 12,
      "metadata": {
        "id": "HQMtdYIU0PDL",
        "colab": {
          "base_uri": "https://localhost:8080/"
        },
        "outputId": "7278f533-0ad8-4946-9524-1d7d90e63fc1"
      },
      "outputs": [
        {
          "output_type": "stream",
          "name": "stderr",
          "text": [
            "100%|██████████| 82610/82610 [00:46<00:00, 1785.02it/s]\n"
          ]
        }
      ],
      "source": [
        "from tqdm import tqdm\n",
        "jobs_data = pd.read_csv('jobsdata_augmented_large.csv')\n",
        "for i in tqdm(range(len(jobs_data))):\n",
        "  jobs_data['keywords'][i] = clean_text(jobs_data['keywords'][i])"
      ]
    },
    {
      "cell_type": "code",
      "execution_count": 13,
      "metadata": {
        "colab": {
          "base_uri": "https://localhost:8080/"
        },
        "id": "0A8ltvTH0Nkp",
        "outputId": "117f357d-bbd2-44a4-a235-5aad13f7df7c"
      },
      "outputs": [
        {
          "output_type": "stream",
          "name": "stdout",
          "text": [
            "shape of input data:  (82610,)\n",
            "shape of target variable:  (82610,)\n",
            "Length of word index: 4900\n"
          ]
        }
      ],
      "source": [
        "# one hot encoding using keras tokenizer and pad sequencing\n",
        "X = jobs_data['keywords']\n",
        "encoder = LabelEncoder()\n",
        "y = encoder.fit_transform(jobs_data['job_title'])\n",
        "print(\"shape of input data: \", X.shape)\n",
        "print(\"shape of target variable: \", y.shape)\n",
        "\n",
        "X_train, X_test, y_train, y_test = train_test_split(X, y, test_size=0.20)\n",
        "\n",
        "tokenizer = Tokenizer(num_words=100000, oov_token='')\n",
        "tokenizer.fit_on_texts(X_train) # build the word index\n",
        "# padding X_train text input data\n",
        "train_seq = tokenizer.texts_to_sequences(X_train) # converts strings into integer lists\n",
        "train_padseq = pad_sequences(train_seq, maxlen=300) # pads the integer lists to 2D integer tensor \n",
        "\n",
        "# padding X_test text input data\n",
        "test_seq = tokenizer.texts_to_sequences(X_test)\n",
        "test_padseq = pad_sequences(test_seq, maxlen=300)\n",
        "\n",
        "word_index = tokenizer.word_index\n",
        "max_words = 150000 # total number of words to consider in embedding layer\n",
        "total_words = len(word_index)\n",
        "maxlen = 300 # max length of sequence \n",
        "y_train = to_categorical(y_train, num_classes=41)\n",
        "y_test = to_categorical(y_test, num_classes=41)\n",
        "print(\"Length of word index:\", total_words)"
      ]
    },
    {
      "cell_type": "code",
      "execution_count": 14,
      "metadata": {
        "colab": {
          "base_uri": "https://localhost:8080/"
        },
        "id": "7kBSxsHq3n0p",
        "outputId": "6f1bcffc-5fc5-4155-ceb1-3dd434e763ba"
      },
      "outputs": [
        {
          "output_type": "stream",
          "name": "stderr",
          "text": [
            "WARNING:tensorflow:Layer lstm will not use cuDNN kernels since it doesn't meet the criteria. It will use a generic GPU kernel as fallback when running on GPU.\n",
            "WARNING:tensorflow:Layer lstm will not use cuDNN kernels since it doesn't meet the criteria. It will use a generic GPU kernel as fallback when running on GPU.\n",
            "WARNING:tensorflow:Layer lstm will not use cuDNN kernels since it doesn't meet the criteria. It will use a generic GPU kernel as fallback when running on GPU.\n"
          ]
        },
        {
          "output_type": "stream",
          "name": "stdout",
          "text": [
            "Model: \"sequential\"\n",
            "_________________________________________________________________\n",
            " Layer (type)                Output Shape              Param #   \n",
            "=================================================================\n",
            " embedding (Embedding)       (None, 300, 70)           343070    \n",
            "                                                                 \n",
            " bidirectional (Bidirectiona  (None, 300, 128)         69120     \n",
            " l)                                                              \n",
            "                                                                 \n",
            " bidirectional_1 (Bidirectio  (None, 300, 128)         24704     \n",
            " nal)                                                            \n",
            "                                                                 \n",
            " simple_rnn_1 (SimpleRNN)    (None, 32)                5152      \n",
            "                                                                 \n",
            " dropout (Dropout)           (None, 32)                0         \n",
            "                                                                 \n",
            " dense (Dense)               (None, 41)                1353      \n",
            "                                                                 \n",
            "=================================================================\n",
            "Total params: 443,399\n",
            "Trainable params: 443,399\n",
            "Non-trainable params: 0\n",
            "_________________________________________________________________\n"
          ]
        }
      ],
      "source": [
        "from keras.models import Sequential\n",
        "from keras.layers import Embedding, Bidirectional, SimpleRNN, LSTM, Dropout, Dense\n",
        "\n",
        "model = Sequential()\n",
        "model.add(Embedding(total_words+1, 70, input_length=maxlen))\n",
        "model.add(Bidirectional(LSTM(64, dropout=0.1, recurrent_dropout=0.20, activation='tanh', return_sequences=True)))\n",
        "model.add(Bidirectional(SimpleRNN(64, dropout=0.1, recurrent_dropout=0.30, activation='tanh', return_sequences=True)))\n",
        "model.add(SimpleRNN(32, activation='tanh'))\n",
        "model.add(Dropout(0.2))\n",
        "model.add(Dense(41, activation='softmax'))\n",
        "model.summary()"
      ]
    },
    {
      "cell_type": "code",
      "execution_count": 15,
      "metadata": {
        "id": "UYNfJnuS32o1"
      },
      "outputs": [],
      "source": [
        "import keras\n",
        "from keras.callbacks import ModelCheckpoint, EarlyStopping\n",
        "\n",
        "model.compile(optimizer='rmsprop',\n",
        "            loss='categorical_crossentropy',\n",
        "            metrics=['accuracy']\n",
        "            )\n",
        "# SETUP A EARLY STOPPING CALL and model check point API\n",
        "earlystopping = keras.callbacks.EarlyStopping(monitor='accuracy',\n",
        "                                             patience=5,\n",
        "                                              verbose=1,\n",
        "                                              mode='min'\n",
        "                                             )\n",
        "checkpointer = ModelCheckpoint(filepath='bestvalue',moniter='val_loss', verbose=0, save_best_only=True)\n",
        "callback_list = [checkpointer, earlystopping]"
      ]
    },
    {
      "cell_type": "code",
      "execution_count": 16,
      "metadata": {
        "id": "HEWvaCzF4ckm",
        "colab": {
          "base_uri": "https://localhost:8080/"
        },
        "outputId": "46cd92de-a127-4f84-996c-ec82c67a34c6"
      },
      "outputs": [
        {
          "output_type": "stream",
          "name": "stdout",
          "text": [
            "Epoch 1/25\n",
            "414/414 [==============================] - 1112s 3s/step - loss: 2.4735 - accuracy: 0.2095 - val_loss: 2.1911 - val_accuracy: 0.2810\n",
            "Epoch 2/25\n",
            "414/414 [==============================] - 1089s 3s/step - loss: 1.9364 - accuracy: 0.3650 - val_loss: 1.8536 - val_accuracy: 0.3790\n",
            "Epoch 3/25\n",
            "414/414 [==============================] - 1083s 3s/step - loss: 1.6480 - accuracy: 0.4583 - val_loss: 1.5400 - val_accuracy: 0.4936\n",
            "Epoch 4/25\n",
            "414/414 [==============================] - 1083s 3s/step - loss: 1.3971 - accuracy: 0.5469 - val_loss: 1.4594 - val_accuracy: 0.5200\n",
            "Epoch 5/25\n",
            "414/414 [==============================] - 1084s 3s/step - loss: 1.2662 - accuracy: 0.5857 - val_loss: 1.2835 - val_accuracy: 0.5806\n",
            "Epoch 6/25\n",
            "414/414 [==============================] - 1080s 3s/step - loss: 1.1834 - accuracy: 0.6156 - val_loss: 1.2673 - val_accuracy: 0.5853\n",
            "Epoch 7/25\n",
            "414/414 [==============================] - 1081s 3s/step - loss: 1.1090 - accuracy: 0.6414 - val_loss: 1.2751 - val_accuracy: 0.5894\n",
            "Epoch 8/25\n",
            "414/414 [==============================] - 1082s 3s/step - loss: 1.0133 - accuracy: 0.6767 - val_loss: 1.1499 - val_accuracy: 0.6201\n",
            "Epoch 9/25\n",
            "414/414 [==============================] - 1083s 3s/step - loss: 0.9212 - accuracy: 0.7075 - val_loss: 1.0664 - val_accuracy: 0.6562\n",
            "Epoch 10/25\n",
            "414/414 [==============================] - 1084s 3s/step - loss: 0.8567 - accuracy: 0.7291 - val_loss: 1.0602 - val_accuracy: 0.6564\n",
            "Epoch 11/25\n",
            "414/414 [==============================] - 1081s 3s/step - loss: 0.8050 - accuracy: 0.7451 - val_loss: 1.0300 - val_accuracy: 0.6731\n",
            "Epoch 12/25\n",
            "414/414 [==============================] - 1083s 3s/step - loss: 0.7509 - accuracy: 0.7647 - val_loss: 0.9421 - val_accuracy: 0.7003\n",
            "Epoch 13/25\n",
            "414/414 [==============================] - 1083s 3s/step - loss: 0.7078 - accuracy: 0.7774 - val_loss: 0.9588 - val_accuracy: 0.7006\n",
            "Epoch 14/25\n",
            "414/414 [==============================] - 1082s 3s/step - loss: 0.6682 - accuracy: 0.7900 - val_loss: 0.9607 - val_accuracy: 0.7065\n",
            "Epoch 15/25\n",
            "414/414 [==============================] - 1087s 3s/step - loss: 0.6323 - accuracy: 0.8005 - val_loss: 0.8879 - val_accuracy: 0.7224\n",
            "Epoch 16/25\n",
            "414/414 [==============================] - 1085s 3s/step - loss: 0.5955 - accuracy: 0.8129 - val_loss: 0.9138 - val_accuracy: 0.7158\n",
            "Epoch 17/25\n",
            "414/414 [==============================] - 1085s 3s/step - loss: 0.5698 - accuracy: 0.8213 - val_loss: 0.8488 - val_accuracy: 0.7348\n",
            "Epoch 18/25\n",
            "414/414 [==============================] - 1084s 3s/step - loss: 0.5432 - accuracy: 0.8303 - val_loss: 0.7780 - val_accuracy: 0.7550\n",
            "Epoch 19/25\n",
            "414/414 [==============================] - 1083s 3s/step - loss: 0.5169 - accuracy: 0.8385 - val_loss: 0.7836 - val_accuracy: 0.7512\n",
            "Epoch 20/25\n",
            "414/414 [==============================] - 1083s 3s/step - loss: 0.4942 - accuracy: 0.8454 - val_loss: 0.8150 - val_accuracy: 0.7439\n",
            "Epoch 21/25\n",
            "414/414 [==============================] - 1084s 3s/step - loss: 0.4768 - accuracy: 0.8499 - val_loss: 0.8100 - val_accuracy: 0.7527\n",
            "Epoch 22/25\n",
            "414/414 [==============================] - 1084s 3s/step - loss: 0.4547 - accuracy: 0.8567 - val_loss: 0.8419 - val_accuracy: 0.7473\n",
            "Epoch 23/25\n",
            "414/414 [==============================] - 1084s 3s/step - loss: 0.4391 - accuracy: 0.8611 - val_loss: 0.7730 - val_accuracy: 0.7655\n",
            "Epoch 24/25\n",
            "414/414 [==============================] - 1085s 3s/step - loss: 0.4257 - accuracy: 0.8669 - val_loss: 0.7887 - val_accuracy: 0.7603\n",
            "Epoch 25/25\n",
            "414/414 [==============================] - 1086s 3s/step - loss: 0.4126 - accuracy: 0.8693 - val_loss: 0.7480 - val_accuracy: 0.7742\n",
            "test loss and accuracy: 0.7489919662475586 0.7731509208679199\n"
          ]
        }
      ],
      "source": [
        "# fit model to the data\n",
        "history = model.fit(train_padseq, y_train,\n",
        "batch_size=128,\n",
        "epochs=25,\n",
        "validation_split=0.2\n",
        ")\n",
        "\n",
        "# evalute the model\n",
        "test_loss, test_acc = model.evaluate(test_padseq, y_test, verbose=0)\n",
        "print(\"test loss and accuracy:\", test_loss, test_acc)"
      ]
    },
    {
      "cell_type": "code",
      "source": [
        "import matplotlib.pyplot as plt\n",
        "\n",
        "train_loss = history.history['loss']\n",
        "val_loss = history.history['val_loss']\n",
        "train_acc = history.history['accuracy']\n",
        "val_acc = history.history['val_accuracy']\n",
        "    \n",
        "epochs = range(1, len(train_loss) + 1)"
      ],
      "metadata": {
        "id": "doupKVeMPRZo"
      },
      "execution_count": 17,
      "outputs": []
    },
    {
      "cell_type": "code",
      "source": [
        "# Plot training loss\n",
        "plt.plot(epochs, train_loss, 'bo', label='Training loss')\n",
        "plt.plot(epochs, val_loss, 'b', label='Validation loss')\n",
        "plt.title('Training and Validation loss')\n",
        "plt.xlabel('Epochs')\n",
        "plt.ylabel('Loss')\n",
        "plt.legend()\n",
        "plt.show()"
      ],
      "metadata": {
        "id": "ntPPCm83O7f3",
        "colab": {
          "base_uri": "https://localhost:8080/",
          "height": 472
        },
        "outputId": "42f7b5f2-06ee-45ee-a80d-df4cb2e60655"
      },
      "execution_count": 18,
      "outputs": [
        {
          "output_type": "display_data",
          "data": {
            "text/plain": [
              "<Figure size 640x480 with 1 Axes>"
            ],
            "image/png": "[encoded data removed]"
          },
          "metadata": {}
        }
      ]
    },
    {
      "cell_type": "code",
      "source": [
        "# Plot trainin accuracy \n",
        "plt.plot(epochs, train_acc, 'bo', label='Training accuracy')\n",
        "plt.plot(epochs, val_acc, 'b', label='Validation accuracy')\n",
        "plt.title('Training and Validation accuracy')\n",
        "plt.xlabel('Epochs')\n",
        "plt.ylabel('Accuracy')\n",
        "plt.legend()\n",
        "plt.show()"
      ],
      "metadata": {
        "id": "rjtTAbt2PLUV",
        "colab": {
          "base_uri": "https://localhost:8080/",
          "height": 472
        },
        "outputId": "b5e08bb5-937b-45fd-8078-ef292dc6ba68"
      },
      "execution_count": 19,
      "outputs": [
        {
          "output_type": "display_data",
          "data": {
            "text/plain": [
              "<Figure size 640x480 with 1 Axes>"
            ],
            "image/png": "[encoded data removed]"
          },
          "metadata": {}
        }
      ]
    },
    {
      "cell_type": "code",
      "source": [
        "import numpy as np\n",
        "def predict_job_title(model, tokenizer, input_keywords, maxlen, encoder):\n",
        "    # Preprocess the input string\n",
        "    input_keywords = input_keywords.lower()\n",
        "    \n",
        "    # Tokenize and pad the input string\n",
        "    input_seq = tokenizer.texts_to_sequences([input_keywords])\n",
        "    input_padseq = pad_sequences(input_seq, maxlen=maxlen)\n",
        "    \n",
        "    # Predict the job title\n",
        "    prediction = model.predict(input_padseq)\n",
        "    predicted_label = np.argmax(prediction, axis=-1)\n",
        "    \n",
        "    # Decode the predicted job title from the categorical representation\n",
        "    job_title = encoder.inverse_transform(predicted_label)\n",
        "    \n",
        "    return job_title[0]\n",
        "\n",
        "input_keywords = \"javascript html css bootstrap python sql\"\n",
        "predicted_job_title = predict_job_title(model, tokenizer, input_keywords, maxlen, encoder)\n",
        "print(f\"Predicted job title: {predicted_job_title}\")"
      ],
      "metadata": {
        "colab": {
          "base_uri": "https://localhost:8080/"
        },
        "id": "ATScA1Urn-Jj",
        "outputId": "6485028e-e48b-4804-875c-68fcfebe3ea7"
      },
      "execution_count": null,
      "outputs": [
        {
          "output_type": "stream",
          "name": "stdout",
          "text": [
            "1/1 [==============================] - 0s 80ms/step\n",
            "Predicted job title: software engineer/developer\n"
          ]
        }
      ]
    }
  ],
  "metadata": {
    "accelerator": "GPU",
    "colab": {
      "provenance": [],
      "gpuType": "A100",
      "machine_shape": "hm",
      "include_colab_link": true
    },
    "gpuClass": "standard",
    "kernelspec": {
      "display_name": "Python 3",
      "name": "python3"
    },
    "language_info": {
      "name": "python"
    }
  },
  "nbformat": 4,
  "nbformat_minor": 0
}